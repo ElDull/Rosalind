{
 "cells": [
  {
   "cell_type": "markdown",
   "source": [
    "# Evolution as a Sequence of Mistakes\n",
    "    \n",
    "A mutation is simply a mistake that occurs during the creation or copying of a nucleic acid, in particular DNA. Because nucleic acids are vital to cellular functions, mutations tend to cause a ripple effect throughout the cell. Although mutations are technically mistakes, a very rare mutation may equip the cell with a beneficial attribute. In fact, the macro effects of evolution are attributable by the accumulated result of beneficial microscopic mutations over many generations.\n",
    "\n",
    "The simplest and most common type of nucleic acid mutation is a point mutation, which replaces one base with another at a single nucleotide. In the case of DNA, a point mutation must change the complementary base accordingly; see Figure 1.\n",
    "\n",
    "Two DNA strands taken from different organism or species genomes are homologous if they share a recent ancestor; thus, counting the number of bases at which homologous strands differ provides us with the minimum number of point mutations that could have occurred on the evolutionary path between the two strands.\n",
    "\n",
    "We are interested in minimizing the number of (point) mutations separating two species because of the biological principle of parsimony, which demands that evolutionary histories should be as simply explained as possible.\n",
    "\n"
   ],
   "metadata": {}
  },
  {
   "cell_type": "markdown",
   "source": [
    "Problem\n",
    "\n",
    "Given two strings s\n",
    "and t of equal length, the Hamming distance between s and t, denoted dH(s,t), is the number of corresponding symbols that differ in s and t\n",
    "\n",
    "\n",
    "Given: Two DNA strings s and t of equal length (not exceeding 1 kbp).\n",
    "\n",
    "Return: The Hamming distance dH(s,t)\n",
    "\n",
    "## Sample Dataset\n",
    "\n",
    "```\n",
    "GAGCCTACTAACGGGAT\n",
    "CATCGTAATGACGGCCT\n",
    "```\n",
    "\n",
    "## Sample Output\n",
    "\n",
    "`7`"
   ],
   "metadata": {}
  },
  {
   "cell_type": "code",
   "execution_count": 7,
   "source": [
    "def count_ham(s,t):\n",
    "    count = 0\n",
    "    # we know they are of equal length\n",
    "    for i in range(len(s)):\n",
    "        if s[i] != t[i]:\n",
    "            count += 1\n",
    "    return count"
   ],
   "outputs": [],
   "metadata": {}
  },
  {
   "cell_type": "code",
   "execution_count": 8,
   "source": [
    "import sys\n",
    "sys.path.append(\"/home/eldull/Projects/Programming/Rosalind\")\n",
    "from helpers import read_data,write_data\n",
    "\n",
    "data = read_data(\"rosalind_hamm.txt\",multiline=True)\n",
    "print(data)"
   ],
   "outputs": [
    {
     "output_type": "stream",
     "name": "stdout",
     "text": [
      "['GAGCCTACTAACGGGAT', 'CATCGTAATGACGGCCT']\n"
     ]
    }
   ],
   "metadata": {}
  },
  {
   "cell_type": "code",
   "execution_count": 9,
   "source": [
    "write_data(\"output.txt\",str(count_ham(data[0],data[1])))\n",
    "count_ham(data[0],data[1])"
   ],
   "outputs": [
    {
     "output_type": "execute_result",
     "data": {
      "text/plain": [
       "7"
      ]
     },
     "metadata": {},
     "execution_count": 9
    }
   ],
   "metadata": {}
  }
 ],
 "metadata": {
  "orig_nbformat": 4,
  "language_info": {
   "name": "python",
   "version": "3.9.5",
   "mimetype": "text/x-python",
   "codemirror_mode": {
    "name": "ipython",
    "version": 3
   },
   "pygments_lexer": "ipython3",
   "nbconvert_exporter": "python",
   "file_extension": ".py"
  },
  "kernelspec": {
   "name": "python3",
   "display_name": "Python 3.9.5 64-bit"
  },
  "interpreter": {
   "hash": "916dbcbb3f70747c44a77c7bcd40155683ae19c65e1c03b4aa3499c5328201f1"
  }
 },
 "nbformat": 4,
 "nbformat_minor": 2
}