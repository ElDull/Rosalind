{
 "cells": [
  {
   "cell_type": "code",
   "execution_count": 34,
   "source": [
    "codon_table_string = \"\"\"\n",
    "UUU F      CUU L      AUU I      GUU V\n",
    "UUC F      CUC L      AUC I      GUC V\n",
    "UUA L      CUA L      AUA I      GUA V\n",
    "UUG L      CUG L      AUG M      GUG V\n",
    "UCU S      CCU P      ACU T      GCU A\n",
    "UCC S      CCC P      ACC T      GCC A\n",
    "UCA S      CCA P      ACA T      GCA A\n",
    "UCG S      CCG P      ACG T      GCG A\n",
    "UAU Y      CAU H      AAU N      GAU D\n",
    "UAC Y      CAC H      AAC N      GAC D\n",
    "UAA Stop   CAA Q      AAA K      GAA E\n",
    "UAG Stop   CAG Q      AAG K      GAG E\n",
    "UGU C      CGU R      AGU S      GGU G\n",
    "UGC C      CGC R      AGC S      GGC G\n",
    "UGA Stop   CGA R      AGA R      GGA G\n",
    "UGG W      CGG R      AGG R      GGG G \n",
    "\"\"\"\n"
   ],
   "outputs": [],
   "metadata": {}
  },
  {
   "cell_type": "code",
   "execution_count": 35,
   "source": [
    "codon_table = [i.split(\"      \") for i in codon_table_string.split(\"\\n\")[1:-1]]\n"
   ],
   "outputs": [],
   "metadata": {}
  },
  {
   "cell_type": "code",
   "execution_count": 36,
   "source": [
    "temp = []\n",
    "for item in codon_table:\n",
    "    for pair in item:\n",
    "        if \"   \" in pair:\n",
    "            pair = pair.split(\"   \")\n",
    "            temp.append(pair[0])\n",
    "            temp.append(pair[1])\n",
    "            continue\n",
    "        temp.append(pair)\n",
    "codon_table = {}\n",
    "for item in temp:\n",
    "    item = item.split(\" \")\n",
    "    if codon_table[item[1]]:\n",
    "        codon_table[item[1]] += item[0]\n",
    "    else:\n",
    "        codon_table.update({item[1]:[item[0]]})"
   ],
   "outputs": [],
   "metadata": {}
  },
  {
   "cell_type": "code",
   "execution_count": 37,
   "source": [
    "codon_table"
   ],
   "outputs": [
    {
     "output_type": "execute_result",
     "data": {
      "text/plain": [
       "{'F': 'UUC',\n",
       " 'L': 'CUG',\n",
       " 'I': 'AUA',\n",
       " 'V': 'GUG',\n",
       " 'M': 'AUG',\n",
       " 'S': 'AGC',\n",
       " 'P': 'CCG',\n",
       " 'T': 'ACG',\n",
       " 'A': 'GCG',\n",
       " 'Y': 'UAC',\n",
       " 'H': 'CAC',\n",
       " 'N': 'AAC',\n",
       " 'D': 'GAC',\n",
       " 'Stop': 'UGA',\n",
       " 'Q': 'CAG',\n",
       " 'K': 'AAG',\n",
       " 'E': 'GAG',\n",
       " 'C': 'UGC',\n",
       " 'R': 'AGG',\n",
       " 'G': 'GGG',\n",
       " 'W': 'UGG'}"
      ]
     },
     "metadata": {},
     "execution_count": 37
    }
   ],
   "metadata": {}
  }
 ],
 "metadata": {
  "orig_nbformat": 4,
  "language_info": {
   "name": "python",
   "version": "3.9.5",
   "mimetype": "text/x-python",
   "codemirror_mode": {
    "name": "ipython",
    "version": 3
   },
   "pygments_lexer": "ipython3",
   "nbconvert_exporter": "python",
   "file_extension": ".py"
  },
  "kernelspec": {
   "name": "python3",
   "display_name": "Python 3.9.5 64-bit"
  },
  "interpreter": {
   "hash": "916dbcbb3f70747c44a77c7bcd40155683ae19c65e1c03b4aa3499c5328201f1"
  }
 },
 "nbformat": 4,
 "nbformat_minor": 2
}