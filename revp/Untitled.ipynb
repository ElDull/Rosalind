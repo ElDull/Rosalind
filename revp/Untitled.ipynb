{
 "cells": [
  {
   "cell_type": "code",
   "execution_count": 18,
   "id": "4d67732c",
   "metadata": {},
   "outputs": [],
   "source": [
    "# Testing untill specified otherwise\n",
    "base = \"TCAATGCATGCGGGTCTATATGCAT\""
   ]
  },
  {
   "cell_type": "code",
   "execution_count": 17,
   "id": "f142101e",
   "metadata": {},
   "outputs": [],
   "source": [
    "def check_revp(subs):\n",
    "    if subs == reverse_complement(subs):\n",
    "        return True\n",
    "    return False"
   ]
  },
  {
   "cell_type": "code",
   "execution_count": 16,
   "id": "45a1bfc2",
   "metadata": {},
   "outputs": [],
   "source": [
    "def reverse_complement(dna):\n",
    "    dna = dna[::-1] # reverse of dna\n",
    "    complements = {'A':'T','T':'A','C':'G','G':'C'}\n",
    "    rev_c = \"\"\n",
    "    for ch in dna:\n",
    "        rev_c += complements[ch]\n",
    "    return rev_c"
   ]
  },
  {
   "cell_type": "code",
   "execution_count": 36,
   "id": "2c33c76a",
   "metadata": {},
   "outputs": [],
   "source": [
    "def main(dna):\n",
    "    #import pdb; pdb.set_trace()\n",
    "    start = 0\n",
    "    mn = 4\n",
    "    mx = 13\n",
    "    if len(dna) < 12:\n",
    "        mx = len(dna)\n",
    "        for i in range(4,counter):\n",
    "            print(dna[start:start+i])\n",
    "            counter -= 1\n",
    "            start += 1\n",
    "    else:\n",
    "        while len(dna) - start >= 4:\n",
    "            for i in range(mn,mx):\n",
    "                if start+i > len(dna):\n",
    "                    start += 1\n",
    "                    pass\n",
    "                if dna[start:start+i] == reverse_complement(dna[start:start+1]):\n",
    "                    print(f\"{start} {i}\")\n",
    "            start += 1\n",
    "            "
   ]
  },
  {
   "cell_type": "code",
   "execution_count": 37,
   "id": "d05bac4f",
   "metadata": {},
   "outputs": [
    {
     "name": "stdout",
     "output_type": "stream",
     "text": [
      "25 10\n",
      "26 11\n",
      "27 12\n"
     ]
    }
   ],
   "source": [
    "main(base)"
   ]
  },
  {
   "cell_type": "code",
   "execution_count": null,
   "id": "255c4022",
   "metadata": {},
   "outputs": [],
   "source": []
  }
 ],
 "metadata": {
  "kernelspec": {
   "display_name": "Python 3 (ipykernel)",
   "language": "python",
   "name": "python3"
  },
  "language_info": {
   "codemirror_mode": {
    "name": "ipython",
    "version": 3
   },
   "file_extension": ".py",
   "mimetype": "text/x-python",
   "name": "python",
   "nbconvert_exporter": "python",
   "pygments_lexer": "ipython3",
   "version": "3.9.5"
  }
 },
 "nbformat": 4,
 "nbformat_minor": 5
}
