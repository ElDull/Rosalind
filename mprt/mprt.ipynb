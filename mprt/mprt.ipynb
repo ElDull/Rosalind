{
 "cells": [
  {
   "cell_type": "code",
   "execution_count": 42,
   "source": [
    "import re\n",
    "def parse_motif(motif):\n",
    "    \"\"\"\n",
    "    Takes a motif and converts it to regex\n",
    "    \"\"\"\n",
    "    motif = motif.replace(\"{\", \"[^\").replace(\"}\", \"]\")\n",
    "    return motif"
   ],
   "outputs": [],
   "metadata": {}
  },
  {
   "cell_type": "code",
   "execution_count": 43,
   "source": [
    "motif = parse_motif(\"N{P}[ST]{P}\")"
   ],
   "outputs": [],
   "metadata": {}
  },
  {
   "cell_type": "code",
   "execution_count": 44,
   "source": [
    "# Regex Test\n",
    "import re\n",
    "\n",
    "#Return a list containing every occurrence of \"ai\":\n",
    "def findstr(st, subtxt):\n",
    "\treturn re.search(st,subtxt).start()\n",
    "txt = \"The rain in Spain\"\n",
    "idx = 0\n",
    "locs = []\n",
    "while idx < len(txt):\n",
    "\ttry:\n",
    "\t\tx = findstr(\"ai\", txt[idx:])\n",
    "\t\tlocs.append(x)\n",
    "\t\tidx += x+1\n",
    "\texcept:\n",
    "\t\tbreak"
   ],
   "outputs": [],
   "metadata": {}
  },
  {
   "cell_type": "code",
   "execution_count": 58,
   "source": [
    "\t# Change above function to suit our needs\n",
    "\tdef find_motif(motif,txt):\n",
    "\t\t# Find all motif locations in one protein\n",
    "\t\tidx = 0\n",
    "\t\tlocs = []\n",
    "\t\twhile idx < len(txt):\n",
    "\t\t\ttry:\n",
    "\t\t\t\tx = findstr(motif, txt[idx:])\n",
    "\t\t\t\tlocs.append(idx+x+1)\n",
    "\t\t\t\tidx += x+1\n",
    "\t\t\texcept AttributeError:\n",
    "\t\t\t\tbreak\n",
    "\t\treturn locs"
   ],
   "outputs": [],
   "metadata": {}
  },
  {
   "cell_type": "code",
   "execution_count": 56,
   "source": [
    "import requests\n",
    "def fetch_protein(uniprot_id):\n",
    "    protein = \"\".join([i for i in requests.get(f\"http://www.uniprot.org/uniprot/{uniprot_id}.fasta\").text.split(\"\\n\")[1:]])\n",
    "    return protein\n"
   ],
   "outputs": [],
   "metadata": {}
  },
  {
   "cell_type": "code",
   "execution_count": 47,
   "source": [
    "# Example Protein\n",
    "fetch_protein(\"A2Z669\")"
   ],
   "outputs": [
    {
     "output_type": "execute_result",
     "data": {
      "text/plain": [
       "'MRASRPVVHPVEAPPPAALAVAAAAVAVEAGVGAGGGAAAHGGENAQPRGVRMKDPPGAPGTPGGLGLRLVQAFFAAAALAVMASTDDFPSVSAFCYLVAAAILQCLWSLSLAVVDIYALLVKRSLRNPQAVCIFTIGDGITGTLTLGAACASAGITVLIGNDLNICANNHCASFETATAMAFISWFALAPSCVLNFWSMASR'"
      ]
     },
     "metadata": {},
     "execution_count": 47
    }
   ],
   "metadata": {}
  },
  {
   "cell_type": "code",
   "execution_count": 60,
   "source": [
    "import sys\n",
    "sys.path.append(\"/home/eldull/Projects/Programming/Rosalind\")\n",
    "from helpers import read_data\n",
    "\n",
    "prot_list = read_data(\"input.txt\", multiline=True) \n",
    "d = dict()\n",
    "for prot in prot_list:\n",
    "    p = fetch_protein(prot)\n",
    "    locs = find_motif(motif, p)\n",
    "    if locs:\n",
    "        print(prot)\n",
    "        for i in locs:\n",
    "            print(i, end=\" \")\n",
    "        print()\n",
    "        "
   ],
   "outputs": [
    {
     "output_type": "stream",
     "name": "stdout",
     "text": [
      "B5ZC00\n",
      "85 118 142 306 395 \n",
      "P07204_TRBM_HUMAN\n",
      "47 115 116 382 409 \n",
      "P20840_SAG1_YEAST\n",
      "79 109 135 248 306 348 364 402 485 501 614 \n"
     ]
    }
   ],
   "metadata": {}
  }
 ],
 "metadata": {
  "orig_nbformat": 4,
  "language_info": {
   "name": "python",
   "version": "3.9.5",
   "mimetype": "text/x-python",
   "codemirror_mode": {
    "name": "ipython",
    "version": 3
   },
   "pygments_lexer": "ipython3",
   "nbconvert_exporter": "python",
   "file_extension": ".py"
  },
  "kernelspec": {
   "name": "python3",
   "display_name": "Python 3.9.5 64-bit"
  },
  "interpreter": {
   "hash": "916dbcbb3f70747c44a77c7bcd40155683ae19c65e1c03b4aa3499c5328201f1"
  }
 },
 "nbformat": 4,
 "nbformat_minor": 2
}